{
 "cells": [
  {
   "cell_type": "code",
   "execution_count": 1,
   "id": "be922ec2-9d35-4e8c-a13b-a09d4248440c",
   "metadata": {},
   "outputs": [
    {
     "name": "stdin",
     "output_type": "stream",
     "text": [
      "Enter a string:  wow\n"
     ]
    },
    {
     "name": "stdout",
     "output_type": "stream",
     "text": [
      "'wow' is a palindrome.\n"
     ]
    }
   ],
   "source": [
    "# 1. Palindrome Check\n",
    "def is_palindrome(s):\n",
    "    return s == s[::-1]\n",
    "\n",
    "string = input(\"Enter a string: \")\n",
    "if is_palindrome(string):\n",
    "    print(f\"'{string}' is a palindrome.\")\n",
    "else:\n",
    "    print(f\"'{string}' is not a palindrome.\")"
   ]
  },
  {
   "cell_type": "code",
   "execution_count": 3,
   "id": "99a48b99-7d1d-4591-b140-b6573f0cc942",
   "metadata": {},
   "outputs": [
    {
     "name": "stdin",
     "output_type": "stream",
     "text": [
      "Enter numbers separated by space:  1 2 3 4 5\n"
     ]
    },
    {
     "name": "stdout",
     "output_type": "stream",
     "text": [
      "Squares: [1, 4, 9, 16, 25]\n"
     ]
    }
   ],
   "source": [
    "# 2. Squares of numbers using loop with user input\n",
    "\n",
    "numbers = list(map(int, input(\"Enter numbers separated by space: \").split()))\n",
    "\n",
    "squares = []\n",
    "for x in numbers:\n",
    "    squares.append(x**2)\n",
    "\n",
    "print(\"Squares:\", squares)\n"
   ]
  },
  {
   "cell_type": "code",
   "execution_count": 7,
   "id": "da41c03c-130d-4913-bdae-888e97b3387c",
   "metadata": {},
   "outputs": [
    {
     "name": "stdin",
     "output_type": "stream",
     "text": [
      "Enter name of student 1:  Bhargav\n",
      "Enter marks of Bhargav:  89\n",
      "Enter name of student 2:  Ravi\n",
      "Enter marks of Ravi:  67\n",
      "Enter name of student 3:  Rahul\n",
      "Enter marks of Rahul:  78\n",
      "Enter name of student 4:  Animesh\n",
      "Enter marks of Animesh:  89\n",
      "Enter name of student 5:  Shreyas\n",
      "Enter marks of Shreyas:  89\n"
     ]
    },
    {
     "name": "stdout",
     "output_type": "stream",
     "text": [
      "\n",
      "All Students Data:\n",
      "   Student  Marks\n",
      "0  Bhargav     89\n",
      "1     Ravi     67\n",
      "2    Rahul     78\n",
      "3  Animesh     89\n",
      "4  Shreyas     89\n",
      "\n",
      "Students with marks > 80:\n",
      "   Student  Marks\n",
      "0  Bhargav     89\n",
      "3  Animesh     89\n",
      "4  Shreyas     89\n"
     ]
    }
   ],
   "source": [
    "# 3. DataFrame of 5 students and marks > 80 with user input\n",
    "import pandas as pd\n",
    "\n",
    "students = []\n",
    "marks = []\n",
    "\n",
    "for i in range(5):\n",
    "    name = input(f\"Enter name of student {i+1}: \")\n",
    "    mark = int(input(f\"Enter marks of {name}: \"))\n",
    "    students.append(name)\n",
    "    marks.append(mark)\n",
    "\n",
    "data = {\n",
    "    \"Student\": students,\n",
    "    \"Marks\": marks\n",
    "}\n",
    "\n",
    "df_students = pd.DataFrame(data)\n",
    "\n",
    "print(\"\\nAll Students Data:\")\n",
    "print(df_students)\n",
    "\n",
    "print(\"\\nStudents with marks > 80:\")\n",
    "print(df_students[df_students[\"Marks\"] > 80])\n"
   ]
  },
  {
   "cell_type": "code",
   "execution_count": 8,
   "id": "84f17371-633a-40fb-8d4a-9425bd022b57",
   "metadata": {},
   "outputs": [
    {
     "name": "stdout",
     "output_type": "stream",
     "text": [
      "\n",
      "5x5 Random Array:\n",
      "[[70 47 32 11 42]\n",
      " [52 89 87 53 36]\n",
      " [17  9 65 29 93]\n",
      " [88 27 45 90 78]\n",
      " [20 88 15 15 67]]\n"
     ]
    }
   ],
   "source": [
    "# 4. 5x5 random integer array\n",
    "import numpy as np\n",
    "\n",
    "arr = np.random.randint(1, 101, size=(5, 5))\n",
    "print(\"\\n5x5 Random Array:\")\n",
    "print(arr)\n"
   ]
  },
  {
   "cell_type": "code",
   "execution_count": 9,
   "id": "9351bf81-8e9b-44d0-b8db-316b4358a83f",
   "metadata": {},
   "outputs": [
    {
     "name": "stdout",
     "output_type": "stream",
     "text": [
      "\n",
      "Products with Discounted Price:\n",
      "  Product Name  Price     Category  Discounted Price\n",
      "0       Laptop  60000  Electronics           54000.0\n",
      "1        Phone  30000  Electronics           27000.0\n",
      "2   Headphones   2000  Accessories            1800.0\n",
      "3     Keyboard   1500  Accessories            1350.0\n",
      "4        Mouse    800  Accessories             720.0\n",
      "\n",
      "Products cheaper than 500:\n",
      "Empty DataFrame\n",
      "Columns: [Product Name, Price, Category, Discounted Price]\n",
      "Index: []\n"
     ]
    }
   ],
   "source": [
    "# 5. DataFrame of products\n",
    "products = {\n",
    "    \"Product Name\": [\"Laptop\", \"Phone\", \"Headphones\", \"Keyboard\", \"Mouse\"],\n",
    "    \"Price\": [60000, 30000, 2000, 1500, 800],\n",
    "    \"Category\": [\"Electronics\", \"Electronics\", \"Accessories\", \"Accessories\", \"Accessories\"]\n",
    "}\n",
    "\n",
    "df_products = pd.DataFrame(products)\n",
    "df_products[\"Discounted Price\"] = df_products[\"Price\"] * 0.9\n",
    "\n",
    "print(\"\\nProducts with Discounted Price:\")\n",
    "print(df_products)\n",
    "\n",
    "print(\"\\nProducts cheaper than 500:\")\n",
    "print(df_products[df_products[\"Price\"] < 500])"
   ]
  },
  {
   "cell_type": "code",
   "execution_count": null,
   "id": "ffae628c-d90c-48fc-a229-0bfbce94873b",
   "metadata": {},
   "outputs": [],
   "source": []
  }
 ],
 "metadata": {
  "kernelspec": {
   "display_name": "Python 3 (ipykernel)",
   "language": "python",
   "name": "python3"
  },
  "language_info": {
   "codemirror_mode": {
    "name": "ipython",
    "version": 3
   },
   "file_extension": ".py",
   "mimetype": "text/x-python",
   "name": "python",
   "nbconvert_exporter": "python",
   "pygments_lexer": "ipython3",
   "version": "3.13.7"
  }
 },
 "nbformat": 4,
 "nbformat_minor": 5
}
